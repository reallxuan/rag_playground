{
 "cells": [
  {
   "cell_type": "code",
   "execution_count": 2,
   "id": "14bad2b6",
   "metadata": {},
   "outputs": [
    {
     "name": "stdout",
     "output_type": "stream",
     "text": [
      "{\"id\":\"chatcmpl-ef19c77f-6bd2-46cb-b3e9-dadcf9712bf0\",\"choices\":[{\"finish_reason\":\"stop\",\"index\":0,\"logprobs\":null,\"message\":{\"content\":\"The fastest animal on Earth is the **cheetah** (*Acinonyx jubatus*), known for its incredible speed and agility. Here's a breakdown of the fastest animals based on different criteria:\\n\\n### 1. **Fastest Land Animal**  \\n   - **Cheetah**:  \\n     - **Top speed**: Up to **70–75 mph (112–120 km/h)** in short bursts (20–60 seconds).  \\n     - Adaptations: Lightweight build, non-retractable claws for traction, and a flexible spine for explosive acceleration.  \\n\\n### 2. **Fastest Animal in a Dive (Aerial)**  \\n   - **Peregrine Falcon** (*Falco peregrinus*):  \\n     - **Dive speed (stoop)**: Over **240 mph (390 km/h)** when hunting prey mid-air.  \\n     - Specialized for speed: Aerodynamic body and exceptional vision for targeting prey during high-speed dives.  \\n\\n### 3. **Fastest Animal Relative to Body Size**  \\n   - **Paratarsotomus macropalpis** (a mite species):  \\n     - **Speed**: Moves at **322 body lengths per second** (equivalent to ~0.5 mph or 0.8 km/h).  \\n     - Context: If scaled to human size, it would be faster than a jet plane.  \\n\\n### 4. **Fastest Marine Animal**  \\n   - **Sailfish** (*Istiophorus platypterus*):  \\n     - **Top speed**: Estimated up to **68 mph (110 km/h)** in the ocean.  \\n     - Adaptations: A streamlined body and a long, crescent-shaped tail for rapid movement.  \\n\\n### Summary:  \\n- **Absolute fastest (land)**: Cheetah.  \\n- **Fastest in air (dive)**: Peregrine Falcon.  \\n- **Fastest relative to size**: Paratarsotomus macropalpis mite.  \\n- **Fastest swimmer**: Sailfish.  \\n\\nEach animal’s speed is optimized for its environment and survival needs! 🐆🦅🌊\",\"refusal\":null,\"role\":\"assistant\",\"annotations\":null,\"audio\":null,\"function_call\":null,\"tool_calls\":null}}],\"created\":1757080194,\"model\":\"qwen-plus\",\"object\":\"chat.completion\",\"service_tier\":null,\"system_fingerprint\":null,\"usage\":{\"completion_tokens\":460,\"prompt_tokens\":28,\"total_tokens\":488,\"completion_tokens_details\":null,\"prompt_tokens_details\":{\"audio_tokens\":null,\"cached_tokens\":0}}}\n"
     ]
    }
   ],
   "source": [
    "import os\n",
    "from openai import OpenAI\n",
    "\n",
    "\n",
    "client = OpenAI(\n",
    "    # 若没有配置环境变量，请用百炼API Key将下行替换为：api_key=\"sk-xxx\",\n",
    "    api_key=\"sk-72265c4ad8e54bb6aa4362fca03370b1\",\n",
    "    base_url=\"https://dashscope.aliyuncs.com/compatible-mode/v1\",\n",
    ")\n",
    "\n",
    "completion = client.chat.completions.create(\n",
    "    # 模型列表：https://help.aliyun.com/zh/model-studio/getting-started/models\n",
    "    model=\"qwen-plus\",\n",
    "    messages=[\n",
    "        {\"role\": \"system\", \"content\": \"You are a helpful assistant.\"},\n",
    "        {\"role\": \"user\", \"content\": \"What is the fastest animal\"},\n",
    "    ],\n",
    "\n",
    "    # extra_body={\"enable_thinking\": False},\n",
    ")\n",
    "print(completion.model_dump_json())"
   ]
  }
 ],
 "metadata": {
  "kernelspec": {
   "display_name": "langchain_play",
   "language": "python",
   "name": "python3"
  },
  "language_info": {
   "codemirror_mode": {
    "name": "ipython",
    "version": 3
   },
   "file_extension": ".py",
   "mimetype": "text/x-python",
   "name": "python",
   "nbconvert_exporter": "python",
   "pygments_lexer": "ipython3",
   "version": "3.11.13"
  }
 },
 "nbformat": 4,
 "nbformat_minor": 5
}
